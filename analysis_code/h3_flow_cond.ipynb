{
 "cells": [
  {
   "cell_type": "code",
   "execution_count": 1,
   "metadata": {
    "collapsed": true
   },
   "outputs": [],
   "source": [
    "# This code is a modifcation of this template:\n",
    "# https://nilearn.github.io/auto_examples/03_connectivity/plot_group_level_connectivity.html#sphx-glr-auto-examples-03-connectivity-plot-group-level-connectivity-py\n",
    "\n",
    "import numpy as np"
   ]
  },
  {
   "cell_type": "code",
   "execution_count": 2,
   "metadata": {
    "collapsed": true,
    "scrolled": true
   },
   "outputs": [],
   "source": [
    "# Import one subject per line of code. This could be improved with a for loop\n",
    "# Import all flow conditions for all runs for all subjects\n",
    "# Subject 12 has a bad ord4 and that is excluded here\n",
    "\n",
    "from nilearn import image\n",
    "from nilearn.image import load_img\n",
    "\n",
    "sub1_ord2 = image.load_img(\"/media/blinded/RAID/flow_graph/fnirt_func_no_smooth/sub1_ord2_flow.nii.gz\")\n",
    "sub1_ord3 = image.load_img(\"/media/blinded/RAID/flow_graph/fnirt_func_no_smooth/sub1_ord3_flow.nii.gz\")\n",
    "sub1_ord4 = image.load_img(\"/media/blinded/RAID/flow_graph/fnirt_func_no_smooth/sub1_ord4_flow.nii.gz\")\n",
    "sub1_ord5 = image.load_img(\"/media/blinded/RAID/flow_graph/fnirt_func_no_smooth/sub1_ord5_flow.nii.gz\")\n",
    "sub2_ord1 = image.load_img(\"/media/blinded/RAID/flow_graph/fnirt_func_no_smooth/sub2_ord1_flow.nii.gz\")\n",
    "sub2_ord2 = image.load_img(\"/media/blinded/RAID/flow_graph/fnirt_func_no_smooth/sub2_ord2_flow.nii.gz\")\n",
    "sub2_ord5 = image.load_img(\"/media/blinded/RAID/flow_graph/fnirt_func_no_smooth/sub2_ord5_flow.nii.gz\")\n",
    "sub2_ord6 = image.load_img(\"/media/blinded/RAID/flow_graph/fnirt_func_no_smooth/sub2_ord6_flow.nii.gz\")\n",
    "sub3_ord3 = image.load_img(\"/media/blinded/RAID/flow_graph/fnirt_func_no_smooth/sub3_ord3_flow.nii.gz\")\n",
    "sub3_ord4 = image.load_img(\"/media/blinded/RAID/flow_graph/fnirt_func_no_smooth/sub3_ord4_flow.nii.gz\")\n",
    "sub3_ord5 = image.load_img(\"/media/blinded/RAID/flow_graph/fnirt_func_no_smooth/sub3_ord5_flow.nii.gz\")\n",
    "sub3_ord6 = image.load_img(\"/media/blinded/RAID/flow_graph/fnirt_func_no_smooth/sub3_ord6_flow.nii.gz\")\n",
    "sub4_ord1 = image.load_img(\"/media/blinded/RAID/flow_graph/fnirt_func_no_smooth/sub4_ord1_flow.nii.gz\")\n",
    "sub4_ord2 = image.load_img(\"/media/blinded/RAID/flow_graph/fnirt_func_no_smooth/sub4_ord2_flow.nii.gz\")\n",
    "sub4_ord3 = image.load_img(\"/media/blinded/RAID/flow_graph/fnirt_func_no_smooth/sub4_ord3_flow.nii.gz\")\n",
    "sub4_ord4 = image.load_img(\"/media/blinded/RAID/flow_graph/fnirt_func_no_smooth/sub4_ord4_flow.nii.gz\")\n",
    "sub5_ord1 = image.load_img(\"/media/blinded/RAID/flow_graph/fnirt_func_no_smooth/sub5_ord1_flow.nii.gz\")\n",
    "sub5_ord2 = image.load_img(\"/media/blinded/RAID/flow_graph/fnirt_func_no_smooth/sub5_ord2_flow.nii.gz\")\n",
    "sub5_ord3 = image.load_img(\"/media/blinded/RAID/flow_graph/fnirt_func_no_smooth/sub5_ord3_flow.nii.gz\")\n",
    "sub5_ord4 = image.load_img(\"/media/blinded/RAID/flow_graph/fnirt_func_no_smooth/sub5_ord4_flow.nii.gz\")\n",
    "sub6_ord2 = image.load_img(\"/media/blinded/RAID/flow_graph/fnirt_func_no_smooth/sub6_ord2_flow.nii.gz\")\n",
    "sub6_ord3 = image.load_img(\"/media/blinded/RAID/flow_graph/fnirt_func_no_smooth/sub6_ord3_flow.nii.gz\")\n",
    "sub6_ord4 = image.load_img(\"/media/blinded/RAID/flow_graph/fnirt_func_no_smooth/sub6_ord4_flow.nii.gz\")\n",
    "sub6_ord5 = image.load_img(\"/media/blinded/RAID/flow_graph/fnirt_func_no_smooth/sub6_ord5_flow.nii.gz\")\n",
    "sub7_ord1 = image.load_img(\"/media/blinded/RAID/flow_graph/fnirt_func_no_smooth/sub7_ord1_flow.nii.gz\")\n",
    "sub7_ord4 = image.load_img(\"/media/blinded/RAID/flow_graph/fnirt_func_no_smooth/sub7_ord4_flow.nii.gz\")\n",
    "sub7_ord5 = image.load_img(\"/media/blinded/RAID/flow_graph/fnirt_func_no_smooth/sub7_ord5_flow.nii.gz\")\n",
    "sub7_ord6 = image.load_img(\"/media/blinded/RAID/flow_graph/fnirt_func_no_smooth/sub7_ord6_flow.nii.gz\")\n",
    "sub8_ord1 = image.load_img(\"/media/blinded/RAID/flow_graph/fnirt_func_no_smooth/sub8_ord1_flow.nii.gz\")\n",
    "sub8_ord2 = image.load_img(\"/media/blinded/RAID/flow_graph/fnirt_func_no_smooth/sub8_ord2_flow.nii.gz\")\n",
    "sub8_ord3 = image.load_img(\"/media/blinded/RAID/flow_graph/fnirt_func_no_smooth/sub8_ord3_flow.nii.gz\")\n",
    "sub8_ord6 = image.load_img(\"/media/blinded/RAID/flow_graph/fnirt_func_no_smooth/sub8_ord6_flow.nii.gz\")\n",
    "sub9_ord1 = image.load_img(\"/media/blinded/RAID/flow_graph/fnirt_func_no_smooth/sub9_ord1_flow.nii.gz\")\n",
    "sub9_ord2 = image.load_img(\"/media/blinded/RAID/flow_graph/fnirt_func_no_smooth/sub9_ord2_flow.nii.gz\")\n",
    "sub9_ord5 = image.load_img(\"/media/blinded/RAID/flow_graph/fnirt_func_no_smooth/sub9_ord5_flow.nii.gz\")\n",
    "sub9_ord6 = image.load_img(\"/media/blinded/RAID/flow_graph/fnirt_func_no_smooth/sub9_ord6_flow.nii.gz\")\n",
    "sub10_ord3 = image.load_img(\"/media/blinded/RAID/flow_graph/fnirt_func_no_smooth/sub10_ord3_flow.nii.gz\")\n",
    "sub10_ord4 = image.load_img(\"/media/blinded/RAID/flow_graph/fnirt_func_no_smooth/sub10_ord4_flow.nii.gz\")\n",
    "sub10_ord5 = image.load_img(\"/media/blinded/RAID/flow_graph/fnirt_func_no_smooth/sub10_ord5_flow.nii.gz\")\n",
    "sub10_ord6 = image.load_img(\"/media/blinded/RAID/flow_graph/fnirt_func_no_smooth/sub10_ord6_flow.nii.gz\")\n",
    "sub11_ord1 = image.load_img(\"/media/blinded/RAID/flow_graph/fnirt_func_no_smooth/sub11_ord1_flow.nii.gz\")\n",
    "sub11_ord2 = image.load_img(\"/media/blinded/RAID/flow_graph/fnirt_func_no_smooth/sub11_ord2_flow.nii.gz\")\n",
    "sub11_ord3 = image.load_img(\"/media/blinded/RAID/flow_graph/fnirt_func_no_smooth/sub11_ord3_flow.nii.gz\")\n",
    "sub11_ord6 = image.load_img(\"/media/blinded/RAID/flow_graph/fnirt_func_no_smooth/sub11_ord6_flow.nii.gz\")\n",
    "sub12_ord2 = image.load_img(\"/media/blinded/RAID/flow_graph/fnirt_func_no_smooth/sub12_ord2_flow.nii.gz\")\n",
    "sub12_ord3 = image.load_img(\"/media/blinded/RAID/flow_graph/fnirt_func_no_smooth/sub12_ord3_flow.nii.gz\")\n",
    "sub12_ord5 = image.load_img(\"/media/blinded/RAID/flow_graph/fnirt_func_no_smooth/sub12_ord5_flow.nii.gz\")\n",
    "sub13_ord3 = image.load_img(\"/media/blinded/RAID/flow_graph/fnirt_func_no_smooth/sub13_ord3_flow.nii.gz\")\n",
    "sub13_ord4 = image.load_img(\"/media/blinded/RAID/flow_graph/fnirt_func_no_smooth/sub13_ord4_flow.nii.gz\")\n",
    "sub13_ord5 = image.load_img(\"/media/blinded/RAID/flow_graph/fnirt_func_no_smooth/sub13_ord5_flow.nii.gz\")\n",
    "sub13_ord6 = image.load_img(\"/media/blinded/RAID/flow_graph/fnirt_func_no_smooth/sub13_ord6_flow.nii.gz\")\n",
    "sub14_ord1 = image.load_img(\"/media/blinded/RAID/flow_graph/fnirt_func_no_smooth/sub14_ord1_flow.nii.gz\")\n",
    "sub14_ord2 = image.load_img(\"/media/blinded/RAID/flow_graph/fnirt_func_no_smooth/sub14_ord2_flow.nii.gz\")\n",
    "sub14_ord3 = image.load_img(\"/media/blinded/RAID/flow_graph/fnirt_func_no_smooth/sub14_ord3_flow.nii.gz\")\n",
    "sub14_ord4 = image.load_img(\"/media/blinded/RAID/flow_graph/fnirt_func_no_smooth/sub14_ord4_flow.nii.gz\")\n",
    "sub15_ord1 = image.load_img(\"/media/blinded/RAID/flow_graph/fnirt_func_no_smooth/sub15_ord1_flow.nii.gz\")\n",
    "sub15_ord4 = image.load_img(\"/media/blinded/RAID/flow_graph/fnirt_func_no_smooth/sub15_ord4_flow.nii.gz\")\n",
    "sub15_ord5 = image.load_img(\"/media/blinded/RAID/flow_graph/fnirt_func_no_smooth/sub15_ord5_flow.nii.gz\")\n",
    "sub15_ord6 = image.load_img(\"/media/blinded/RAID/flow_graph/fnirt_func_no_smooth/sub15_ord6_flow.nii.gz\")\n",
    "sub16_ord1 = image.load_img(\"/media/blinded/RAID/flow_graph/fnirt_func_no_smooth/sub16_ord1_flow.nii.gz\")\n",
    "sub16_ord2 = image.load_img(\"/media/blinded/RAID/flow_graph/fnirt_func_no_smooth/sub16_ord2_flow.nii.gz\")\n",
    "sub16_ord5 = image.load_img(\"/media/blinded/RAID/flow_graph/fnirt_func_no_smooth/sub16_ord5_flow.nii.gz\")\n",
    "sub16_ord6 = image.load_img(\"/media/blinded/RAID/flow_graph/fnirt_func_no_smooth/sub16_ord6_flow.nii.gz\")\n",
    "sub17_ord1 = image.load_img(\"/media/blinded/RAID/flow_graph/fnirt_func_no_smooth/sub17_ord1_flow.nii.gz\")\n",
    "sub17_ord2 = image.load_img(\"/media/blinded/RAID/flow_graph/fnirt_func_no_smooth/sub17_ord2_flow.nii.gz\")\n",
    "sub17_ord3 = image.load_img(\"/media/blinded/RAID/flow_graph/fnirt_func_no_smooth/sub17_ord3_flow.nii.gz\")\n",
    "sub17_ord6 = image.load_img(\"/media/blinded/RAID/flow_graph/fnirt_func_no_smooth/sub17_ord6_flow.nii.gz\")\n",
    "sub18_ord1 = image.load_img(\"/media/blinded/RAID/flow_graph/fnirt_func_no_smooth/sub18_ord1_flow.nii.gz\")\n",
    "sub18_ord4 = image.load_img(\"/media/blinded/RAID/flow_graph/fnirt_func_no_smooth/sub18_ord4_flow.nii.gz\")\n",
    "sub18_ord5 = image.load_img(\"/media/blinded/RAID/flow_graph/fnirt_func_no_smooth/sub18_ord5_flow.nii.gz\")\n",
    "sub18_ord6 = image.load_img(\"/media/blinded/RAID/flow_graph/fnirt_func_no_smooth/sub18_ord6_flow.nii.gz\")"
   ]
  },
  {
   "cell_type": "code",
   "execution_count": 3,
   "metadata": {
    "collapsed": true
   },
   "outputs": [],
   "source": [
    "from nilearn import datasets"
   ]
  },
  {
   "cell_type": "code",
   "execution_count": 4,
   "metadata": {},
   "outputs": [
    {
     "name": "stdout",
     "output_type": "stream",
     "text": [
      "Power atlas comes with ['rois', 'description'].\n"
     ]
    }
   ],
   "source": [
    "# This imports the Power 2011 atlas with 264 cortical and subcortical ROIs\n",
    "\n",
    "power = datasets.fetch_coords_power_2011()\n",
    "print('Power atlas comes with {0}.'.format(power.keys()))"
   ]
  },
  {
   "cell_type": "code",
   "execution_count": 5,
   "metadata": {
    "collapsed": true
   },
   "outputs": [],
   "source": [
    "from nilearn import input_data"
   ]
  },
  {
   "cell_type": "code",
   "execution_count": 6,
   "metadata": {},
   "outputs": [
    {
     "name": "stdout",
     "output_type": "stream",
     "text": [
      "Stacked power coordinates in array of shape (264, 3).\n"
     ]
    }
   ],
   "source": [
    "# Makes a table with the x,y,z coordinates of each seed ROI\n",
    "\n",
    "coords = np.vstack((power.rois['x'], power.rois['y'], power.rois['z'])).T\n",
    "\n",
    "print('Stacked power coordinates in array of shape {0}.'.format(coords.shape))\n",
    "\n",
    "# The code below exports the ROI x,y,z coordinates of each seed ROI to a text file\n",
    "\n",
    "np.savetxt('power_rois.txt',coords)"
   ]
  },
  {
   "cell_type": "code",
   "execution_count": 7,
   "metadata": {
    "collapsed": true
   },
   "outputs": [],
   "source": [
    "# Now, lets make some masks\n",
    "# Note, these are 5mm spheres so that ROIs do not overlap\n",
    "\n",
    "masker = input_data.NiftiSpheresMasker(\n",
    "    seeds=coords, smoothing_fwhm=0, radius=5.,\n",
    "    detrend=True, t_r=.720, memory='nilearn_cache', memory_level=1)"
   ]
  },
  {
   "cell_type": "code",
   "execution_count": 8,
   "metadata": {
    "collapsed": true
   },
   "outputs": [],
   "source": [
    "# This creates a timeseries matrix for each subect for each run\n",
    "# This can be improved with a for loop\n",
    "\n",
    "pooled_subjects = []\n",
    "\n",
    "time_series = masker.fit_transform(sub1_ord2)\n",
    "pooled_subjects.append(time_series)\n",
    "time_series = masker.fit_transform(sub1_ord3)\n",
    "pooled_subjects.append(time_series)\n",
    "time_series = masker.fit_transform(sub1_ord4)\n",
    "pooled_subjects.append(time_series)\n",
    "time_series = masker.fit_transform(sub1_ord5)\n",
    "pooled_subjects.append(time_series)\n",
    "time_series = masker.fit_transform(sub2_ord1)\n",
    "pooled_subjects.append(time_series)\n",
    "time_series = masker.fit_transform(sub2_ord2)\n",
    "pooled_subjects.append(time_series)\n",
    "time_series = masker.fit_transform(sub2_ord5)\n",
    "pooled_subjects.append(time_series)\n",
    "time_series = masker.fit_transform(sub2_ord6)\n",
    "pooled_subjects.append(time_series)\n",
    "time_series = masker.fit_transform(sub3_ord3)\n",
    "pooled_subjects.append(time_series)\n",
    "time_series = masker.fit_transform(sub3_ord4)\n",
    "pooled_subjects.append(time_series)\n",
    "time_series = masker.fit_transform(sub3_ord5)\n",
    "pooled_subjects.append(time_series)\n",
    "time_series = masker.fit_transform(sub3_ord6)\n",
    "pooled_subjects.append(time_series)\n",
    "time_series = masker.fit_transform(sub4_ord1)\n",
    "pooled_subjects.append(time_series)\n",
    "time_series = masker.fit_transform(sub4_ord2)\n",
    "pooled_subjects.append(time_series)\n",
    "time_series = masker.fit_transform(sub4_ord3)\n",
    "pooled_subjects.append(time_series)\n",
    "time_series = masker.fit_transform(sub4_ord4)\n",
    "pooled_subjects.append(time_series)\n",
    "time_series = masker.fit_transform(sub5_ord1)\n",
    "pooled_subjects.append(time_series)\n",
    "time_series = masker.fit_transform(sub5_ord2)\n",
    "pooled_subjects.append(time_series)\n",
    "time_series = masker.fit_transform(sub5_ord3)\n",
    "pooled_subjects.append(time_series)\n",
    "time_series = masker.fit_transform(sub5_ord4)\n",
    "pooled_subjects.append(time_series)\n",
    "time_series = masker.fit_transform(sub6_ord2)\n",
    "pooled_subjects.append(time_series)\n",
    "time_series = masker.fit_transform(sub6_ord3)\n",
    "pooled_subjects.append(time_series)\n",
    "time_series = masker.fit_transform(sub6_ord4)\n",
    "pooled_subjects.append(time_series)\n",
    "time_series = masker.fit_transform(sub6_ord5)\n",
    "pooled_subjects.append(time_series)\n",
    "time_series = masker.fit_transform(sub7_ord1)\n",
    "pooled_subjects.append(time_series)\n",
    "time_series = masker.fit_transform(sub7_ord4)\n",
    "pooled_subjects.append(time_series)\n",
    "time_series = masker.fit_transform(sub7_ord5)\n",
    "pooled_subjects.append(time_series)\n",
    "time_series = masker.fit_transform(sub7_ord6)\n",
    "pooled_subjects.append(time_series)\n",
    "time_series = masker.fit_transform(sub8_ord1)\n",
    "pooled_subjects.append(time_series)\n",
    "time_series = masker.fit_transform(sub8_ord2)\n",
    "pooled_subjects.append(time_series)\n",
    "time_series = masker.fit_transform(sub8_ord3)\n",
    "pooled_subjects.append(time_series)\n",
    "time_series = masker.fit_transform(sub8_ord6)\n",
    "pooled_subjects.append(time_series)\n",
    "time_series = masker.fit_transform(sub9_ord1)\n",
    "pooled_subjects.append(time_series)\n",
    "time_series = masker.fit_transform(sub9_ord2)\n",
    "pooled_subjects.append(time_series)\n",
    "time_series = masker.fit_transform(sub9_ord5)\n",
    "pooled_subjects.append(time_series)\n",
    "time_series = masker.fit_transform(sub9_ord6)\n",
    "pooled_subjects.append(time_series)\n",
    "time_series = masker.fit_transform(sub10_ord3)\n",
    "pooled_subjects.append(time_series)\n",
    "time_series = masker.fit_transform(sub10_ord4)\n",
    "pooled_subjects.append(time_series)\n",
    "time_series = masker.fit_transform(sub10_ord5)\n",
    "pooled_subjects.append(time_series)\n",
    "time_series = masker.fit_transform(sub10_ord6)\n",
    "pooled_subjects.append(time_series)\n",
    "time_series = masker.fit_transform(sub11_ord1)\n",
    "pooled_subjects.append(time_series)\n",
    "time_series = masker.fit_transform(sub11_ord2)\n",
    "pooled_subjects.append(time_series)\n",
    "time_series = masker.fit_transform(sub11_ord3)\n",
    "pooled_subjects.append(time_series)\n",
    "time_series = masker.fit_transform(sub11_ord6)\n",
    "pooled_subjects.append(time_series)\n",
    "time_series = masker.fit_transform(sub12_ord2)\n",
    "pooled_subjects.append(time_series)\n",
    "time_series = masker.fit_transform(sub12_ord3)\n",
    "pooled_subjects.append(time_series)\n",
    "time_series = masker.fit_transform(sub12_ord5)\n",
    "pooled_subjects.append(time_series)\n",
    "time_series = masker.fit_transform(sub13_ord3)\n",
    "pooled_subjects.append(time_series)\n",
    "time_series = masker.fit_transform(sub13_ord4)\n",
    "pooled_subjects.append(time_series)\n",
    "time_series = masker.fit_transform(sub13_ord5)\n",
    "pooled_subjects.append(time_series)\n",
    "time_series = masker.fit_transform(sub13_ord6)\n",
    "pooled_subjects.append(time_series)\n",
    "time_series = masker.fit_transform(sub14_ord1)\n",
    "pooled_subjects.append(time_series)\n",
    "time_series = masker.fit_transform(sub14_ord2)\n",
    "pooled_subjects.append(time_series)\n",
    "time_series = masker.fit_transform(sub14_ord3)\n",
    "pooled_subjects.append(time_series)\n",
    "time_series = masker.fit_transform(sub14_ord4)\n",
    "pooled_subjects.append(time_series)\n",
    "time_series = masker.fit_transform(sub15_ord1)\n",
    "pooled_subjects.append(time_series)\n",
    "time_series = masker.fit_transform(sub15_ord4)\n",
    "pooled_subjects.append(time_series)\n",
    "time_series = masker.fit_transform(sub15_ord5)\n",
    "pooled_subjects.append(time_series)\n",
    "time_series = masker.fit_transform(sub15_ord6)\n",
    "pooled_subjects.append(time_series)\n",
    "time_series = masker.fit_transform(sub16_ord1)\n",
    "pooled_subjects.append(time_series)\n",
    "time_series = masker.fit_transform(sub16_ord2)\n",
    "pooled_subjects.append(time_series)\n",
    "time_series = masker.fit_transform(sub16_ord5)\n",
    "pooled_subjects.append(time_series)\n",
    "time_series = masker.fit_transform(sub16_ord6)\n",
    "pooled_subjects.append(time_series)\n",
    "time_series = masker.fit_transform(sub17_ord1)\n",
    "pooled_subjects.append(time_series)\n",
    "time_series = masker.fit_transform(sub17_ord2)\n",
    "pooled_subjects.append(time_series)\n",
    "time_series = masker.fit_transform(sub17_ord3)\n",
    "pooled_subjects.append(time_series)\n",
    "time_series = masker.fit_transform(sub17_ord6)\n",
    "pooled_subjects.append(time_series)\n",
    "time_series = masker.fit_transform(sub18_ord1)\n",
    "pooled_subjects.append(time_series)\n",
    "time_series = masker.fit_transform(sub18_ord4)\n",
    "pooled_subjects.append(time_series)\n",
    "time_series = masker.fit_transform(sub18_ord5)\n",
    "pooled_subjects.append(time_series)\n",
    "time_series = masker.fit_transform(sub18_ord6)\n",
    "pooled_subjects.append(time_series)"
   ]
  },
  {
   "cell_type": "code",
   "execution_count": 9,
   "metadata": {},
   "outputs": [
    {
     "name": "stdout",
     "output_type": "stream",
     "text": [
      "timeseries has 165 samples. This is how many volumes there are in the functional run\n"
     ]
    }
   ],
   "source": [
    "# If files are being imported correctly, there should 165 volumes reported here\n",
    "\n",
    "print ('timeseries has {0} samples. This is how many volumes there are in the functional run'.format(time_series.shape[0]))"
   ]
  },
  {
   "cell_type": "code",
   "execution_count": 10,
   "metadata": {
    "collapsed": true
   },
   "outputs": [],
   "source": [
    "# Now, lets estimate some connectivities using correlation\n",
    "\n",
    "from nilearn.connectome import ConnectivityMeasure"
   ]
  },
  {
   "cell_type": "code",
   "execution_count": 11,
   "metadata": {
    "collapsed": true
   },
   "outputs": [],
   "source": [
    "correlation_measure = ConnectivityMeasure(kind='correlation')"
   ]
  },
  {
   "cell_type": "code",
   "execution_count": 12,
   "metadata": {
    "collapsed": true
   },
   "outputs": [],
   "source": [
    "# Compute individual correlation matricies for each subject\n",
    "\n",
    "correlation_matrices = correlation_measure.fit_transform(pooled_subjects)"
   ]
  },
  {
   "cell_type": "code",
   "execution_count": 13,
   "metadata": {},
   "outputs": [
    {
     "name": "stdout",
     "output_type": "stream",
     "text": [
      "Correlations of subject runs are stacked in an array of shape (71, 264, 264)\n"
     ]
    }
   ],
   "source": [
    "# Shape should be (n, 264, 264) where n = the number of subjects/runs in your study\n",
    "\n",
    "print('Correlations of subject runs are stacked in an array of shape {0}'\n",
    "      .format(correlation_matrices.shape))"
   ]
  },
  {
   "cell_type": "code",
   "execution_count": 14,
   "metadata": {},
   "outputs": [
    {
     "name": "stdout",
     "output_type": "stream",
     "text": [
      "Mean correlation has shape (264, 264).\n"
     ]
    }
   ],
   "source": [
    "# This tells you the shape of your mean correlation matrix\n",
    "# Shape should just be (264, 264) because you are taking the average correlation of all subjects here\n",
    "\n",
    "mean_correlation_matrix = correlation_measure.mean_\n",
    "print('Mean correlation has shape {0}.'.format(mean_correlation_matrix.shape))"
   ]
  },
  {
   "cell_type": "code",
   "execution_count": 15,
   "metadata": {
    "collapsed": true
   },
   "outputs": [],
   "source": [
    "# This saves the correlation matrix as a txt output in the current working directory\n",
    "\n",
    "np.savetxt('flow_cond_corel_matrix.txt',mean_correlation_matrix)"
   ]
  },
  {
   "cell_type": "code",
   "execution_count": 16,
   "metadata": {
    "collapsed": true
   },
   "outputs": [],
   "source": [
    "# Now, lets estimate some connectivities using covariance\n",
    "covariance_measure = ConnectivityMeasure(kind='covariance')"
   ]
  },
  {
   "cell_type": "code",
   "execution_count": 17,
   "metadata": {
    "collapsed": true
   },
   "outputs": [],
   "source": [
    "covariance_matricies = covariance_measure.fit_transform(pooled_subjects)"
   ]
  },
  {
   "cell_type": "code",
   "execution_count": 18,
   "metadata": {},
   "outputs": [
    {
     "name": "stdout",
     "output_type": "stream",
     "text": [
      "Covariances of subject runs are stacked in an array of shape (71, 264, 264)\n"
     ]
    }
   ],
   "source": [
    "# Shape should be (n, 264, 264) where n = the number of subjects/runs in your study\n",
    "\n",
    "print('Covariances of subject runs are stacked in an array of shape {0}'\n",
    "      .format(covariance_matricies.shape))"
   ]
  },
  {
   "cell_type": "code",
   "execution_count": 19,
   "metadata": {},
   "outputs": [
    {
     "name": "stdout",
     "output_type": "stream",
     "text": [
      "Mean correlation has shape (264, 264).\n"
     ]
    }
   ],
   "source": [
    "# This tells you the shape of your mean correlation matrix\n",
    "# Shape should just be (264, 264) because you are taking the average correlation of all subjects here\n",
    "\n",
    "mean_covariance_matrix = covariance_measure.mean_\n",
    "print('Mean correlation has shape {0}.'.format(mean_covariance_matrix.shape))"
   ]
  },
  {
   "cell_type": "code",
   "execution_count": 20,
   "metadata": {
    "collapsed": true
   },
   "outputs": [],
   "source": [
    "# This saves the covariance matrix as a txt output in the current working directory\n",
    "\n",
    "np.savetxt('flow_cond_covar_matrix.txt',mean_covariance_matrix)"
   ]
  },
  {
   "cell_type": "code",
   "execution_count": null,
   "metadata": {
    "collapsed": true
   },
   "outputs": [],
   "source": []
  }
 ],
 "metadata": {
  "kernelspec": {
   "display_name": "Python 2",
   "language": "python",
   "name": "python2"
  },
  "language_info": {
   "codemirror_mode": {
    "name": "ipython",
    "version": 2
   },
   "file_extension": ".py",
   "mimetype": "text/x-python",
   "name": "python",
   "nbconvert_exporter": "python",
   "pygments_lexer": "ipython2",
   "version": "2.7.13"
  }
 },
 "nbformat": 4,
 "nbformat_minor": 2
}
